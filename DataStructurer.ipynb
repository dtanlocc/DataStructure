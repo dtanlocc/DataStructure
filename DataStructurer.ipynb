{
  "cells": [
    {
      "cell_type": "markdown",
      "metadata": {
        "id": "view-in-github",
        "colab_type": "text"
      },
      "source": [
        "<a href=\"https://colab.research.google.com/github/tanloc2209/DataStructure/blob/main/DataStructurer.ipynb\" target=\"_parent\"><img src=\"https://colab.research.google.com/assets/colab-badge.svg\" alt=\"Open In Colab\"/></a>"
      ]
    },
    {
      "cell_type": "markdown",
      "metadata": {
        "id": "oWdwnZ3hYjWh"
      },
      "source": [
        "#**`DATA STRUCTURE USING PYTHON`**\n",
        "###### *ĐÂY LÀ CẤU TRÚC DỮ LIỆU CƠ BẢN GỒM NHỮNG HÀM CƠ BẢN, CẦN TÌM HIỂU VÀ PHÁT TRIỂN THÊM NHỮNG HÀM KHÁC CỦA TỪNG CẤU TRÚC DỮ LIỆU*\n",
        "\n",
        "* Linked List\n",
        "  1.   Singly Linked List\n",
        "  2.   Circular Linked List\n",
        "  3.   Doubly Linked List\n",
        "\n",
        "* Stack\n",
        "\n",
        "* Queue\n",
        "\n",
        "* Binary Tree / Binary Search Tree\n",
        "\n",
        "* Tree AVL\n",
        "\n",
        "* Hash table\n",
        "\n",
        "* ...\n",
        "---"
      ]
    },
    {
      "cell_type": "markdown",
      "source": [
        "## Linked List"
      ],
      "metadata": {
        "id": "J-nl-OLe0nRd"
      }
    },
    {
      "cell_type": "markdown",
      "metadata": {
        "id": "tdWbeq-vakEz"
      },
      "source": [
        "### 1. Singly Linked List\n",
        "* Khởi tạo Node gồm data và next\n",
        "* Khởi tạo class Linked List chứa head \n",
        "* Kiem tra Linked list có rỗng không (isEmpty)\n",
        "* Insert Node mới vào\n",
        "** Chèn vào đầu (push)\n",
        "** Chèn sau 1 Node bất kì (insertAfter)\n",
        "** Chèn tại index bất kì (insertIndex) index được đếm bắt đầu từ 1\n",
        "** chèn cuối (append)\n",
        "* xóa Node\n",
        "** Xóa theo STT đánh số từ 1 (deleteIndex)\n",
        "** xóa theo data (deleteData)\n",
        "* Duyệt Linked List và in kết quả (travelList)\n"
      ]
    },
    {
      "cell_type": "code",
      "execution_count": 29,
      "metadata": {
        "colab": {
          "base_uri": "https://localhost:8080/"
        },
        "id": "IzTXnJGsTP1i",
        "outputId": "1f367dba-30a6-4edf-ae05-3e9afa86b107"
      },
      "outputs": [
        {
          "output_type": "stream",
          "name": "stdout",
          "text": [
            "14 13 12 22 15 \n",
            "14 13 12 100 22 15 \n",
            "14 13 12 100 22 \n"
          ]
        }
      ],
      "source": [
        "#@title\n",
        "#tao 1 node trong linked list\n",
        "class Node:\n",
        "  def __init__(self,data):\n",
        "    self.data = data\n",
        "    self.next = None\n",
        "    self.prev = None\n",
        "\n",
        "class LinkedList:\n",
        "  \n",
        "  #khoi tao\n",
        "  def __init__(self):\n",
        "    self.head = None\n",
        "\n",
        "  #isEmpty\n",
        "  def isEmpty(self):\n",
        "    if self.head is None:\n",
        "      return True\n",
        "    return False\n",
        "  #push\n",
        "  def push(self,data):\n",
        "    node = Node(data)\n",
        "    if self.isEmpty() != True:\n",
        "      node.next = self.head\n",
        "      self.head = node\n",
        "    else:\n",
        "      self.head = node\n",
        "\n",
        "  #tu viet ham findNode sẽ trả về giá trị Node\n",
        "  def _findNode(self,data):\n",
        "    pass\n",
        "  \n",
        "  #chen sau 1 node. Ở đây cần thêm 1 hàm khác để tìm nodeM bằng data goi la findNode\n",
        "  def insertAfterM(self,data,nodeM):\n",
        "    # if type(nodeM) is int:\n",
        "    #   nodePre = self._findNode(nodeM)\n",
        "    node = Node(data)\n",
        "    node.next = nodeM.next\n",
        "    nodeM.next = node\n",
        "\n",
        "  def insertIndex(self,index,data):\n",
        "    node = Node(data)\n",
        "    temp = self.head\n",
        "    count = 0\n",
        "    while temp.next:\n",
        "      count += 1 \n",
        "      if count == index:\n",
        "        node.next = temp.next\n",
        "        temp.next = node\n",
        "        return\n",
        "      temp = temp.next\n",
        "\n",
        "  #chen cuoi\n",
        "  def append(self,data):\n",
        "    #neu chua co phan tu nao thi no la chen dau\n",
        "    if self.isEmpty():\n",
        "      self.push(data)\n",
        "      return\n",
        "    #nguoc lai thi phai tim duoc node cuoi cung, va chen node can chen sau node cuoi cung\n",
        "    nodeLast = self.head\n",
        "    while nodeLast.next:\n",
        "      nodeLast = nodeLast.next\n",
        "    node = Node(data)\n",
        "    nodeLast.next = node\n",
        "\n",
        "  #xoa node dua tren index\n",
        "  def deleteIndex(self,index):\n",
        "    if index == 0:\n",
        "      return\n",
        "    node = self.head\n",
        "    pre = None\n",
        "    count = 0\n",
        "    while (node):\n",
        "      count += 1\n",
        "      if count == index:\n",
        "        if pre is not None: #nếu nó là phần tử đầu tiên thì pre sẽ kh có giá trị và xảy ra lỗi cần xử lí\n",
        "          pre.next = node.next\n",
        "          node.next.prev = pre.next\n",
        "        else:\n",
        "          self.head = node.next\n",
        "      pre = node\n",
        "      node = node.next\n",
        "\n",
        "  #deleteData xoa theo data, tương tự như theo index\n",
        "  def deleteData(self,data): \n",
        "    node = self.head\n",
        "    pre = None\n",
        "    while (node):\n",
        "      if node.data == data:\n",
        "        if pre is not None:\n",
        "          pre.next = node.next\n",
        "          node.next.prev = pre.next\n",
        "        else:\n",
        "          self.head = node.next\n",
        "      pre = node\n",
        "      node = node.next\n",
        "\n",
        "  #duyet List va in\n",
        "  def travelList(self):\n",
        "    temp = self.head\n",
        "    while (temp):\n",
        "      print(temp.data, end=\" \")\n",
        "      temp = temp.next\n",
        "    print()\n",
        "\n",
        "if __name__ == \"__main__\":\n",
        "  test = LinkedList()\n",
        "  test.push(12)\n",
        "  test.push(13)\n",
        "  test.push(14)\n",
        "  test.append(15)\n",
        "  test.insertAfterM(22,test.head.next.next)\n",
        "  test.travelList()\n",
        "  test.insertIndex(3,100)\n",
        "  test.travelList()\n",
        "  test.deleteData(15)\n",
        "  test.travelList()\n",
        "  "
      ]
    },
    {
      "cell_type": "markdown",
      "metadata": {
        "id": "xLwMGvuEYgJJ"
      },
      "source": [
        "### 2. Circular Linked List\n",
        "#### Tương tự như Linked List nhưng node cuối cùng không next tới null mà next tới head\n",
        "* Khởi tạo class Circular Linked List kế thừa từ LinkedList\n",
        "* có hàm isEmpty để kiểm tra List có rỗng không\n",
        "* Insert Node mới vào\n",
        "** Chèn vào đầu (push)\n",
        "** chèn cuối (append)\n",
        "* xóa Node\n",
        "** xóa theo data (deleteData)\n",
        "* có hàm Duyệt Circular Linked List và in kết quả (travelList)\n",
        "* Tự suy nghĩ thêm các hàm khác và phát triển thêm ..."
      ]
    },
    {
      "cell_type": "code",
      "execution_count": 31,
      "metadata": {
        "colab": {
          "base_uri": "https://localhost:8080/"
        },
        "id": "B0Z9CvAav11f",
        "outputId": "ca09da70-fa32-4f8e-a52e-9bc32682f7e3",
        "cellView": "form"
      },
      "outputs": [
        {
          "output_type": "stream",
          "name": "stdout",
          "text": [
            "22 13 12 44 \n",
            "13 12 \n"
          ]
        }
      ],
      "source": [
        "#@title\n",
        "class CircularLinkedList(LinkedList):\n",
        "  def __init__(self):\n",
        "    LinkedList.__init__(self)\n",
        "\n",
        "  def push(self,data):\n",
        "    pre = Node(data)\n",
        "    temp = self.head\n",
        "    pre.next = temp\n",
        "    if not(self.isEmpty()):\n",
        "      while temp.next != self.head:\n",
        "        temp = temp.next\n",
        "      temp.next = pre\n",
        "    else:\n",
        "      pre.next = pre\n",
        "    self.head = pre\n",
        "\n",
        "  def append(self,data):\n",
        "    next = Node(data)\n",
        "    if self.isEmpty():\n",
        "      self.push(data)\n",
        "      return\n",
        "    temp = self.head\n",
        "    while temp.next != self.head:\n",
        "      temp = temp.next\n",
        "    temp.next = next\n",
        "    next.next = self.head\n",
        "\n",
        "  def deleteData(self, data):\n",
        "    if self.head.data == data and self.head.next == self.head:\n",
        "      self.head = None\n",
        "      return\n",
        "\n",
        "    temp = self.head    \n",
        "    if self.head.data == data:\n",
        "      while (temp.next != self.head):\n",
        "        temp = temp.next\n",
        "      temp.next = self.head.next\n",
        "      self.head = temp.next\n",
        "      return\n",
        "\n",
        "    temp = self.head\n",
        "    pre = self.head\n",
        "    if not(self.isEmpty()):\n",
        "      while True:\n",
        "        pre = pre.next\n",
        "        if pre == self.head:\n",
        "          break\n",
        "    while True:\n",
        "      if temp.data == data:\n",
        "        pre.next = temp.next\n",
        "        return\n",
        "      pre = temp\n",
        "      temp = temp.next\n",
        "      if temp == self.head:\n",
        "        break\n",
        "    print(\"Khong co so can xoa!!\")\n",
        "\n",
        "  \n",
        "  def travelList(self):\n",
        "    temp = self.head\n",
        "    if not(self.isEmpty()):\n",
        "      while True:\n",
        "        print(temp.data, end=\" \")\n",
        "        temp = temp.next\n",
        "        if temp == self.head:\n",
        "          break\n",
        "    else:\n",
        "      print(\"Circulur Linked List rỗng!!\")\n",
        "    print()\n",
        "\n",
        "if __name__== \"__main__\":\n",
        "  test = CircularLinkedList()\n",
        "  test.push(12)\n",
        "  test.push(13)\n",
        "  test.push(22)\n",
        "  test.append(44)\n",
        "  test.travelList()\n",
        "  test.deleteData(22)\n",
        "  test.deleteData(44)\n",
        "  \n",
        "  test.travelList()\n",
        "  # print(test.head.next.next.next.next.next.data)"
      ]
    },
    {
      "cell_type": "markdown",
      "source": [
        "### 3. Doubly Linked List\n",
        "#### Tương tự như Linked List nhưng Doubly Linked List ngoài có next để hướng về Node sau, còn có prev chỉ về Node phía trước\n",
        "* Khởi tạo Node gồm data và next thêm prev để chỉ về Node phía trước\n",
        "* Khởi tạo class Linked List chứa head \n",
        "* Kiem tra Linked list có rỗng không (isEmpty)\n",
        "* Insert Node mới vào\n",
        "** Chèn vào đầu (push)\n",
        "** Chèn sau 1 Node bất kì (insertAfter)\n",
        "** Chèn tại index bất kì (insertIndex) index được đếm bắt đầu từ 1\n",
        "** chèn cuối (append)\n",
        "* xóa Node\n",
        "** Xóa theo STT đánh số từ 1 (deleteIndex)\n",
        "** xóa theo data (deleteData)\n",
        "* Duyệt Linked List và in kết quả (travelList)"
      ],
      "metadata": {
        "id": "WY4795-a0Mfw"
      }
    },
    {
      "cell_type": "code",
      "source": [
        "#@title\n",
        "\n",
        "class DoublyLinkedList(LinkedList):\n",
        "  def __init__(self):\n",
        "      super().__init__()\n",
        "\n",
        "  def isEmpty(self):\n",
        "      return super().isEmpty()\n",
        "  \n",
        "  def push(self,data):\n",
        "    newNode = Node(data)\n",
        "    if self.isEmpty():\n",
        "      self.head = newNode\n",
        "      return\n",
        "    \n",
        "    newNode.next = self.head\n",
        "    self.head.prev = newNode\n",
        "    self.head = newNode\n",
        "\n",
        "  def __findNode(self,data):\n",
        "    temp = self.head\n",
        "    while temp.next:\n",
        "      if temp.data == data:\n",
        "        return temp\n",
        "      temp = temp.next\n",
        "\n",
        "  def insertAfterM(self, data, dataNodeM):\n",
        "      nodeM = self.__findNode(dataNodeM)\n",
        "      if self.head == nodeM:\n",
        "        self.push(dataNodeM)\n",
        "        return\n",
        "      \n",
        "      newNode = Node(data)\n",
        "      nodeM.next.prev = newNode\n",
        "      newNode.next = nodeM.next\n",
        "      newNode.prev = nodeM\n",
        "      nodeM.next = newNode\n",
        "\n",
        "\n",
        "  def append(self,data):\n",
        "    newNode = Node(data)\n",
        "    if self.isEmpty():\n",
        "      self.head = newNode\n",
        "      return\n",
        "\n",
        "    temp = self.head\n",
        "    while temp.next:\n",
        "      temp = temp.next\n",
        "    \n",
        "    temp.next = newNode\n",
        "    newNode.prev = temp\n",
        "\n",
        "  def deleteIndex(self,index):\n",
        "    return super().deleteIndex(index)\n",
        "\n",
        "  def deleteData(self,data):\n",
        "    return super().deleteData(data)\n",
        "\n",
        "  def travelList(self):\n",
        "      return super().travelList()\n",
        "\n",
        "if __name__ == \"__main__\":\n",
        "  test = DoublyLinkedList()\n",
        "  test.push(12)\n",
        "  test.push(13)\n",
        "  test.push(14)\n",
        "  test.append(22)\n",
        "  test.append(24)\n",
        "  test.append(14)\n",
        "  test.travelList()\n",
        "  test.insertAfterM(44,13)\n",
        "  test.travelList()\n",
        "  # test.deleteIndex(6)\n",
        "  test.deleteData(24)\n",
        "  test.travelList()    \n"
      ],
      "metadata": {
        "colab": {
          "base_uri": "https://localhost:8080/"
        },
        "cellView": "form",
        "id": "evCQA7l5QTNC",
        "outputId": "8d697038-9f13-489d-c630-ac9e0ab5bbde"
      },
      "execution_count": 32,
      "outputs": [
        {
          "output_type": "stream",
          "name": "stdout",
          "text": [
            "14 13 12 22 24 14 \n",
            "14 13 44 12 22 24 14 \n",
            "14 13 44 12 22 14 \n"
          ]
        }
      ]
    },
    {
      "cell_type": "markdown",
      "source": [
        "##Stack"
      ],
      "metadata": {
        "id": "IhlgeRZjGZ-n"
      }
    },
    {
      "cell_type": "markdown",
      "source": [
        "####Hoạt động dựa trên last in first out (LIFO) \n",
        "####Các hàm chính của stack:\n",
        "* Thêm vào (push)\n",
        "* kiểm tra rỗng (isEmpty)\n",
        "* xóa khỏi stack (pop)\n",
        "* lấy phần tử đầu (top)\n",
        "* kiểm tra size (size)\n",
        "\n",
        "####*Stack đã được định nghĩa trong python nhưng ở đây chúng ta cần tìm hiểu các cài đặt stack nên phải tự mình cài đặt, không sử dụng thư viện*"
      ],
      "metadata": {
        "id": "lsRI-YfXDojB"
      }
    },
    {
      "cell_type": "code",
      "source": [
        "class Stack(LinkedList):\n",
        "  def __init__(self):\n",
        "    return super().__init__()\n",
        "\n",
        "  def isEmpty(self):\n",
        "    return super().isEmpty()\n",
        "\n",
        "  def push(self,data):\n",
        "    pass"
      ],
      "metadata": {
        "id": "IEuj_-Cj2lyK"
      },
      "execution_count": null,
      "outputs": []
    }
  ],
  "metadata": {
    "colab": {
      "collapsed_sections": [
        "tdWbeq-vakEz"
      ],
      "name": "DataStructurer.ipynb",
      "provenance": [],
      "authorship_tag": "ABX9TyMNZOTOT0pBM7BEYvN8skY/",
      "include_colab_link": true
    },
    "kernelspec": {
      "display_name": "Python 3",
      "name": "python3"
    },
    "language_info": {
      "name": "python"
    },
    "gpuClass": "standard"
  },
  "nbformat": 4,
  "nbformat_minor": 0
}
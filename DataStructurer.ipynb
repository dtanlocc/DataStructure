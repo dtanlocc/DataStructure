{
  "cells": [
    {
      "cell_type": "markdown",
      "metadata": {
        "id": "view-in-github",
        "colab_type": "text"
      },
      "source": [
        "<a href=\"https://colab.research.google.com/github/tanloc2209/DataStructure/blob/main/DataStructurer.ipynb\" target=\"_parent\"><img src=\"https://colab.research.google.com/assets/colab-badge.svg\" alt=\"Open In Colab\"/></a>"
      ]
    },
    {
      "cell_type": "markdown",
      "metadata": {
        "id": "oWdwnZ3hYjWh"
      },
      "source": [
        "#**`DATA STRUCTURE USING PYTHON`**\n",
        "\n",
        "* Linked List\n",
        "  1.   Singly Linked List\n",
        "  2.   Circular Linked List\n",
        "  3.   Doubly Linked List\n",
        "\n",
        "* Stack\n",
        "\n",
        "* Queue\n",
        "\n",
        "* Binary Tree / Binary Search Tree\n",
        "\n",
        "* Tree AVL\n",
        "\n",
        "* Hash table\n",
        "\n",
        "* ...\n",
        "---"
      ]
    },
    {
      "cell_type": "markdown",
      "source": [
        "## Linked List"
      ],
      "metadata": {
        "id": "J-nl-OLe0nRd"
      }
    },
    {
      "cell_type": "markdown",
      "metadata": {
        "id": "tdWbeq-vakEz"
      },
      "source": [
        "### 1. Singly Linked List\n",
        "* Khởi tạo Node gồm data và next\n",
        "* Khởi tạo class Linked List chứa head \n",
        "* Kiem tra Linked list có rỗng không (isEmpty)\n",
        "* Insert Node mới vào\n",
        "** Chèn vào đầu (push)\n",
        "** Chèn sau 1 Node bất kì (insertAfter)\n",
        "** Chèn tại index bất kì (insertIndex) index được đếm bắt đầu từ 1\n",
        "** chèn cuối (append)\n",
        "* xóa Node\n",
        "** Xóa theo STT đánh số từ 1 (deleteIndex)\n",
        "** xóa theo data (deleteData)\n",
        "* Duyệt Linked List và in kết quả (travelList)\n"
      ]
    },
    {
      "cell_type": "code",
      "execution_count": 55,
      "metadata": {
        "colab": {
          "base_uri": "https://localhost:8080/"
        },
        "id": "IzTXnJGsTP1i",
        "outputId": "5a77f014-81a2-4098-c2fd-0d90cc6acfdf"
      },
      "outputs": [
        {
          "output_type": "stream",
          "name": "stdout",
          "text": [
            "14 13 12 22 15 \n",
            "14 13 12 100 22 15 \n",
            "14 13 12 100 22 \n"
          ]
        }
      ],
      "source": [
        "#tao 1 node trong linked list\n",
        "class Node:\n",
        "  def __init__(self,data):\n",
        "    self.data = data\n",
        "    self.next = None\n",
        "\n",
        "class LinkedList:\n",
        "  \n",
        "  #khoi tao\n",
        "  def __init__(self):\n",
        "    self.head = None\n",
        "\n",
        "  #isEmpty\n",
        "  def isEmpty(self):\n",
        "    if self.head is None:\n",
        "      return True\n",
        "\n",
        "  #push\n",
        "  def push(self,data):\n",
        "    node = Node(data)\n",
        "    if self.isEmpty() != True:\n",
        "      node.next = self.head\n",
        "      self.head = node\n",
        "    else:\n",
        "      self.head = node\n",
        "\n",
        "  #tu viet ham findNode sẽ trả về giá trị Node\n",
        "  def _findNode(self,data):\n",
        "    pass\n",
        "  \n",
        "  #chen sau 1 node. Ở đây cần thêm 1 hàm khác để tìm nodeM bằng data goi la findNode\n",
        "  def insertAfterM(self,data,nodeM):\n",
        "    # if type(nodeM) is int:\n",
        "    #   nodePre = self._findNode(nodeM)\n",
        "    node = Node(data)\n",
        "    node.next = nodeM.next\n",
        "    nodeM.next = node\n",
        "\n",
        "  def insertIndex(self,index,data):\n",
        "    node = Node(data)\n",
        "    temp = self.head\n",
        "    count = 0\n",
        "    while temp.next:\n",
        "      count += 1 \n",
        "      if count == index:\n",
        "        node.next = temp.next\n",
        "        temp.next = node\n",
        "        return\n",
        "      temp = temp.next\n",
        "\n",
        "  #chen cuoi\n",
        "  def append(self,data):\n",
        "    #neu chua co phan tu nao thi no la chen dau\n",
        "    if self.isEmpty():\n",
        "      self.push(data)\n",
        "      return\n",
        "    #nguoc lai thi phai tim duoc node cuoi cung, va chen node can chen sau node cuoi cung\n",
        "    nodeLast = self.head\n",
        "    while nodeLast.next:\n",
        "      nodeLast = nodeLast.next\n",
        "    node = Node(data)\n",
        "    nodeLast.next = node\n",
        "\n",
        "  #xoa node dua tren index\n",
        "  def deleteIndex(self,index):\n",
        "    node = self.head\n",
        "    pre = None\n",
        "    count = 0\n",
        "    while (node):\n",
        "      count += 1\n",
        "      if count == index:\n",
        "        if pre is not None: #nếu nó là phần tử đầu tiên thì pre sẽ kh có giá trị và xảy ra lỗi cần xử lí\n",
        "          pre.next = node.next\n",
        "        else:\n",
        "          self.head = node.next\n",
        "      pre = node\n",
        "      node = node.next\n",
        "\n",
        "  #deleteData xoa theo data, tương tự như theo index\n",
        "  def deleteData(self,data): \n",
        "    node = self.head\n",
        "    pre = None\n",
        "    while (node):\n",
        "      if node.data == data:\n",
        "        if pre is not None:\n",
        "          pre.next = node.next\n",
        "        else:\n",
        "          self.head = node.next\n",
        "      pre = node\n",
        "      node = node.next\n",
        "\n",
        "  #duyet List va in\n",
        "  def travelList(self):\n",
        "    temp = self.head\n",
        "    while (temp):\n",
        "      print(temp.data, end=\" \")\n",
        "      temp = temp.next\n",
        "    print()\n",
        "\n",
        "if __name__ == \"__main__\":\n",
        "  test = LinkedList()\n",
        "  test.push(12)\n",
        "  test.push(13)\n",
        "  test.push(14)\n",
        "  test.append(15)\n",
        "  test.insertAfterM(22,test.head.next.next)\n",
        "  test.travelList()\n",
        "  test.insertIndex(3,100)\n",
        "  test.travelList()\n",
        "  test.deleteData(15)\n",
        "  test.travelList()\n",
        "  "
      ]
    },
    {
      "cell_type": "markdown",
      "metadata": {
        "id": "xLwMGvuEYgJJ"
      },
      "source": [
        "### 2. Circular Linked List"
      ]
    },
    {
      "cell_type": "code",
      "execution_count": null,
      "metadata": {
        "colab": {
          "base_uri": "https://localhost:8080/"
        },
        "id": "B0Z9CvAav11f",
        "outputId": "9fefcb63-5ea9-4890-9f82-23f11ee6dcdc"
      },
      "outputs": [
        {
          "name": "stdout",
          "output_type": "stream",
          "text": [
            "y\n"
          ]
        }
      ],
      "source": [
        ""
      ]
    },
    {
      "cell_type": "code",
      "execution_count": null,
      "metadata": {
        "id": "HuurudYzv4YW"
      },
      "outputs": [],
      "source": [
        ""
      ]
    }
  ],
  "metadata": {
    "colab": {
      "collapsed_sections": [
        "tdWbeq-vakEz"
      ],
      "name": "DataStructurer.ipynb",
      "provenance": [],
      "authorship_tag": "ABX9TyM/sT2jAtxIRp5/3kS4n8ts",
      "include_colab_link": true
    },
    "kernelspec": {
      "display_name": "Python 3",
      "name": "python3"
    },
    "language_info": {
      "name": "python"
    }
  },
  "nbformat": 4,
  "nbformat_minor": 0
}